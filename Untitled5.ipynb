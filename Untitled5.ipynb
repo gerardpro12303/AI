{
  "nbformat": 4,
  "nbformat_minor": 0,
  "metadata": {
    "colab": {
      "provenance": []
    },
    "kernelspec": {
      "name": "python3",
      "display_name": "Python 3"
    },
    "language_info": {
      "name": "python"
    }
  },
  "cells": [
    {
      "cell_type": "code",
      "execution_count": 49,
      "metadata": {
        "colab": {
          "base_uri": "https://localhost:8080/"
        },
        "id": "l5YMky8YKXfs",
        "outputId": "5b9c9387-d98a-4c4a-e377-d90ddf7a1ae9"
      },
      "outputs": [
        {
          "output_type": "stream",
          "name": "stdout",
          "text": [
            "Requirement already satisfied: scikit-learn in /usr/local/lib/python3.11/dist-packages (1.6.1)\n",
            "Requirement already satisfied: xgboost in /usr/local/lib/python3.11/dist-packages (2.1.4)\n",
            "Requirement already satisfied: pandas in /usr/local/lib/python3.11/dist-packages (2.2.2)\n",
            "Requirement already satisfied: numpy>=1.19.5 in /usr/local/lib/python3.11/dist-packages (from scikit-learn) (1.26.4)\n",
            "Requirement already satisfied: scipy>=1.6.0 in /usr/local/lib/python3.11/dist-packages (from scikit-learn) (1.13.1)\n",
            "Requirement already satisfied: joblib>=1.2.0 in /usr/local/lib/python3.11/dist-packages (from scikit-learn) (1.4.2)\n",
            "Requirement already satisfied: threadpoolctl>=3.1.0 in /usr/local/lib/python3.11/dist-packages (from scikit-learn) (3.5.0)\n",
            "Requirement already satisfied: nvidia-nccl-cu12 in /usr/local/lib/python3.11/dist-packages (from xgboost) (2.21.5)\n",
            "Requirement already satisfied: python-dateutil>=2.8.2 in /usr/local/lib/python3.11/dist-packages (from pandas) (2.8.2)\n",
            "Requirement already satisfied: pytz>=2020.1 in /usr/local/lib/python3.11/dist-packages (from pandas) (2025.1)\n",
            "Requirement already satisfied: tzdata>=2022.7 in /usr/local/lib/python3.11/dist-packages (from pandas) (2025.1)\n",
            "Requirement already satisfied: six>=1.5 in /usr/local/lib/python3.11/dist-packages (from python-dateutil>=2.8.2->pandas) (1.17.0)\n"
          ]
        }
      ],
      "source": [
        "!pip install scikit-learn xgboost pandas"
      ]
    },
    {
      "cell_type": "code",
      "source": [
        "import pandas as pd\n",
        "import numpy as np\n",
        "from sklearn.model_selection import train_test_split\n",
        "from sklearn.ensemble import RandomForestClassifier\n",
        "from sklearn.linear_model import LogisticRegression\n",
        "from xgboost import XGBClassifier\n",
        "from sklearn.metrics import accuracy_score, classification_report"
      ],
      "metadata": {
        "id": "FnjpSvTLKsVI"
      },
      "execution_count": 51,
      "outputs": []
    },
    {
      "cell_type": "code",
      "source": [
        "import pandas as pd\n",
        "import numpy as np\n",
        "\n",
        "# Number of samples\n",
        "num_samples = 1000\n",
        "\n",
        "# Set seed for reproducibility\n",
        "np.random.seed(42)\n",
        "\n",
        "# Generate glucose readings with lower values for non-diabetics\n",
        "glucose_readings = np.random.randint(70, 200, size=num_samples)\n",
        "\n",
        "# Generate symptoms randomly\n",
        "frequent_urination = np.random.choice([0, 1], size=num_samples)\n",
        "fatigue = np.random.choice([0, 1], size=num_samples)\n",
        "blurred_vision = np.random.choice([0, 1], size=num_samples)\n",
        "\n",
        "# Generate new features\n",
        "age = np.random.randint(20, 80, size=num_samples)  # Age between 20 and 80\n",
        "diet_quality = np.random.choice([\"Poor\", \"Average\", \"Good\"], size=num_samples, p=[0.3, 0.4, 0.3])  # Diet distribution\n",
        "\n",
        "# Determine if the patient is suspected of diabetes\n",
        "suspected = (\n",
        "    (glucose_readings >= 140) |\n",
        "    ((frequent_urination + fatigue + blurred_vision) >= 2) |\n",
        "    ((age > 50) & (diet_quality == \"Poor\"))  # Higher risk if older with poor diet\n",
        ")\n",
        "\n",
        "# Assign labels\n",
        "diabetes_status = np.where(suspected, \"Suspected\", \"Non\")\n",
        "\n",
        "# Generate other features\n",
        "data = {\n",
        "    \"Family_History\": np.random.choice([0, 1], size=num_samples),\n",
        "    \"Glucose_Reading\": glucose_readings,\n",
        "    \"Frequent_Urination\": frequent_urination,\n",
        "    \"Fatigue\": fatigue,\n",
        "    \"Blurred_Vision\": blurred_vision,\n",
        "    \"Age\": age,\n",
        "    \"Diet_Quality\": diet_quality,\n",
        "    \"Diabetes_Status\": diabetes_status\n",
        "}\n",
        "\n",
        "# Create DataFrame\n",
        "df = pd.DataFrame(data)\n",
        "\n",
        "# Save dataset\n",
        "df.to_csv(\"synthetic_diabetes_status.csv\", index=False)\n",
        "\n",
        "# Display first few rows\n",
        "print(df.head())\n",
        "\n"
      ],
      "metadata": {
        "colab": {
          "base_uri": "https://localhost:8080/"
        },
        "id": "2jEugQQbLnFb",
        "outputId": "5b729310-4410-4c2e-bdbb-ebe76c2471c5"
      },
      "execution_count": 107,
      "outputs": [
        {
          "output_type": "stream",
          "name": "stdout",
          "text": [
            "   Family_History  Glucose_Reading  Frequent_Urination  Fatigue  \\\n",
            "0               1              172                   0        1   \n",
            "1               1              162                   1        1   \n",
            "2               0               84                   0        1   \n",
            "3               0              176                   0        1   \n",
            "4               0              141                   0        1   \n",
            "\n",
            "   Blurred_Vision  Age Diet_Quality Diabetes_Status  \n",
            "0               1   76      Average       Suspected  \n",
            "1               1   70      Average       Suspected  \n",
            "2               0   69      Average             Non  \n",
            "3               1   36         Poor       Suspected  \n",
            "4               0   70      Average       Suspected  \n"
          ]
        }
      ]
    },
    {
      "cell_type": "code",
      "source": [
        "import pandas as pd\n",
        "import numpy as np\n",
        "import matplotlib.pyplot as plt\n",
        "import seaborn as sns\n",
        "from sklearn.model_selection import train_test_split\n",
        "from sklearn.preprocessing import StandardScaler\n",
        "from sklearn.ensemble import RandomForestClassifier\n",
        "from sklearn.metrics import accuracy_score, classification_report, confusion_matrix\n"
      ],
      "metadata": {
        "id": "pE4slmKOLq-T"
      },
      "execution_count": 108,
      "outputs": []
    },
    {
      "cell_type": "code",
      "source": [
        "# Load dataset\n",
        "df = pd.read_csv(\"synthetic_diabetes_status.csv\")\n",
        "\n",
        "# Display first few rows\n",
        "print(df.head())\n"
      ],
      "metadata": {
        "colab": {
          "base_uri": "https://localhost:8080/"
        },
        "id": "CiI_zSgXN4js",
        "outputId": "7f8ecd45-d472-47ea-94e8-e99d95b150c6"
      },
      "execution_count": 109,
      "outputs": [
        {
          "output_type": "stream",
          "name": "stdout",
          "text": [
            "   Family_History  Glucose_Reading  Frequent_Urination  Fatigue  \\\n",
            "0               1              172                   0        1   \n",
            "1               1              162                   1        1   \n",
            "2               0               84                   0        1   \n",
            "3               0              176                   0        1   \n",
            "4               0              141                   0        1   \n",
            "\n",
            "   Blurred_Vision  Age Diet_Quality Diabetes_Status  \n",
            "0               1   76      Average       Suspected  \n",
            "1               1   70      Average       Suspected  \n",
            "2               0   69      Average             Non  \n",
            "3               1   36         Poor       Suspected  \n",
            "4               0   70      Average       Suspected  \n"
          ]
        }
      ]
    },
    {
      "cell_type": "code",
      "source": [
        "df[\"Diabetes_Status\"] = df[\"Diabetes_Status\"].map({\"Non\": 0, \"Suspected\": 1})\n"
      ],
      "metadata": {
        "id": "Rk_NQP3JN6oL"
      },
      "execution_count": 110,
      "outputs": []
    },
    {
      "cell_type": "code",
      "source": [
        "# Check class distribution\n",
        "print(df[\"Diabetes_Status\"].value_counts())\n",
        "\n",
        "# Visualize glucose levels\n",
        "sns.histplot(df[\"Glucose_Reading\"], bins=30, kde=True)\n",
        "plt.title(\"Distribution of Glucose Readings\")\n",
        "plt.show()\n"
      ],
      "metadata": {
        "colab": {
          "base_uri": "https://localhost:8080/",
          "height": 541
        },
        "id": "FP2W-jcAN8ZM",
        "outputId": "48029a83-2828-4a07-f882-f332d048c273"
      },
      "execution_count": 111,
      "outputs": [
        {
          "output_type": "stream",
          "name": "stdout",
          "text": [
            "Diabetes_Status\n",
            "1    762\n",
            "0    238\n",
            "Name: count, dtype: int64\n"
          ]
        },
        {
          "output_type": "display_data",
          "data": {
            "text/plain": [
              "<Figure size 640x480 with 1 Axes>"
            ],
            "image/png": "[encoded data removed]"
          },
          "metadata": {}
        }
      ]
    },
    {
      "cell_type": "code",
      "source": [
        "# Define features (X) and target (y)\n",
        "X = df.drop(columns=[\"Diabetes_Status\"])  # All features except target\n",
        "y = df[\"Diabetes_Status\"]  # Target variable\n",
        "\n",
        "# Split data into training (80%) and testing (20%)\n",
        "X_train, X_test, y_train, y_test = train_test_split(X, y, test_size=0.2, random_state=42)\n"
      ],
      "metadata": {
        "id": "XvhPLy83OHyb"
      },
      "execution_count": 112,
      "outputs": []
    },
    {
      "cell_type": "code",
      "source": [
        "print(X_train.dtypes)\n"
      ],
      "metadata": {
        "colab": {
          "base_uri": "https://localhost:8080/"
        },
        "id": "AT6eCOoBSMB3",
        "outputId": "cf2215a2-f841-43b7-c21c-059459ea68e8"
      },
      "execution_count": 113,
      "outputs": [
        {
          "output_type": "stream",
          "name": "stdout",
          "text": [
            "Family_History         int64\n",
            "Glucose_Reading        int64\n",
            "Frequent_Urination     int64\n",
            "Fatigue                int64\n",
            "Blurred_Vision         int64\n",
            "Age                    int64\n",
            "Diet_Quality          object\n",
            "dtype: object\n"
          ]
        }
      ]
    },
    {
      "cell_type": "code",
      "source": [
        "from sklearn.preprocessing import LabelEncoder\n",
        "\n",
        "le = LabelEncoder()\n",
        "X_train[\"Diet_Quality\"] = le.fit_transform(X_train[\"Diet_Quality\"])\n",
        "X_test[\"Diet_Quality\"] = le.transform(X_test[\"Diet_Quality\"])  # Use same mapping\n"
      ],
      "metadata": {
        "id": "A2RCulxjSPS3"
      },
      "execution_count": 114,
      "outputs": []
    },
    {
      "cell_type": "code",
      "source": [
        "scaler = StandardScaler()\n",
        "X_train = scaler.fit_transform(X_train)\n",
        "X_test = scaler.transform(X_test)\n"
      ],
      "metadata": {
        "id": "znpoJxUJOJ3L"
      },
      "execution_count": 115,
      "outputs": []
    },
    {
      "cell_type": "code",
      "source": [
        "# Initialize the model\n",
        "rf_model = RandomForestClassifier(n_estimators=100, random_state=42)\n",
        "\n",
        "# Train the model\n",
        "rf_model.fit(X_train, y_train)\n"
      ],
      "metadata": {
        "colab": {
          "base_uri": "https://localhost:8080/",
          "height": 80
        },
        "id": "Y6V2AiuKOLbL",
        "outputId": "eb319754-3a72-424e-ab5f-f4b1ebf3420f"
      },
      "execution_count": 116,
      "outputs": [
        {
          "output_type": "execute_result",
          "data": {
            "text/plain": [
              "RandomForestClassifier(random_state=42)"
            ],
            "text/html": [
              "<style>#sk-container-id-3 {\n",
              "  /* Definition of color scheme common for light and dark mode */\n",
              "  --sklearn-color-text: #000;\n",
              "  --sklearn-color-text-muted: #666;\n",
              "  --sklearn-color-line: gray;\n",
              "  /* Definition of color scheme for unfitted estimators */\n",
              "  --sklearn-color-unfitted-level-0: #fff5e6;\n",
              "  --sklearn-color-unfitted-level-1: #f6e4d2;\n",
              "  --sklearn-color-unfitted-level-2: #ffe0b3;\n",
              "  --sklearn-color-unfitted-level-3: chocolate;\n",
              "  /* Definition of color scheme for fitted estimators */\n",
              "  --sklearn-color-fitted-level-0: #f0f8ff;\n",
              "  --sklearn-color-fitted-level-1: #d4ebff;\n",
              "  --sklearn-color-fitted-level-2: #b3dbfd;\n",
              "  --sklearn-color-fitted-level-3: cornflowerblue;\n",
              "\n",
              "  /* Specific color for light theme */\n",
              "  --sklearn-color-text-on-default-background: var(--sg-text-color, var(--theme-code-foreground, var(--jp-content-font-color1, black)));\n",
              "  --sklearn-color-background: var(--sg-background-color, var(--theme-background, var(--jp-layout-color0, white)));\n",
              "  --sklearn-color-border-box: var(--sg-text-color, var(--theme-code-foreground, var(--jp-content-font-color1, black)));\n",
              "  --sklearn-color-icon: #696969;\n",
              "\n",
              "  @media (prefers-color-scheme: dark) {\n",
              "    /* Redefinition of color scheme for dark theme */\n",
              "    --sklearn-color-text-on-default-background: var(--sg-text-color, var(--theme-code-foreground, var(--jp-content-font-color1, white)));\n",
              "    --sklearn-color-background: var(--sg-background-color, var(--theme-background, var(--jp-layout-color0, #111)));\n",
              "    --sklearn-color-border-box: var(--sg-text-color, var(--theme-code-foreground, var(--jp-content-font-color1, white)));\n",
              "    --sklearn-color-icon: #878787;\n",
              "  }\n",
              "}\n",
              "\n",
              "#sk-container-id-3 {\n",
              "  color: var(--sklearn-color-text);\n",
              "}\n",
              "\n",
              "#sk-container-id-3 pre {\n",
              "  padding: 0;\n",
              "}\n",
              "\n",
              "#sk-container-id-3 input.sk-hidden--visually {\n",
              "  border: 0;\n",
              "  clip: rect(1px 1px 1px 1px);\n",
              "  clip: rect(1px, 1px, 1px, 1px);\n",
              "  height: 1px;\n",
              "  margin: -1px;\n",
              "  overflow: hidden;\n",
              "  padding: 0;\n",
              "  position: absolute;\n",
              "  width: 1px;\n",
              "}\n",
              "\n",
              "#sk-container-id-3 div.sk-dashed-wrapped {\n",
              "  border: 1px dashed var(--sklearn-color-line);\n",
              "  margin: 0 0.4em 0.5em 0.4em;\n",
              "  box-sizing: border-box;\n",
              "  padding-bottom: 0.4em;\n",
              "  background-color: var(--sklearn-color-background);\n",
              "}\n",
              "\n",
              "#sk-container-id-3 div.sk-container {\n",
              "  /* jupyter's `normalize.less` sets `[hidden] { display: none; }`\n",
              "     but bootstrap.min.css set `[hidden] { display: none !important; }`\n",
              "     so we also need the `!important` here to be able to override the\n",
              "     default hidden behavior on the sphinx rendered scikit-learn.org.\n",
              "     See: https://github.com/scikit-learn/scikit-learn/issues/21755 */\n",
              "  display: inline-block !important;\n",
              "  position: relative;\n",
              "}\n",
              "\n",
              "#sk-container-id-3 div.sk-text-repr-fallback {\n",
              "  display: none;\n",
              "}\n",
              "\n",
              "div.sk-parallel-item,\n",
              "div.sk-serial,\n",
              "div.sk-item {\n",
              "  /* draw centered vertical line to link estimators */\n",
              "  background-image: linear-gradient(var(--sklearn-color-text-on-default-background), var(--sklearn-color-text-on-default-background));\n",
              "  background-size: 2px 100%;\n",
              "  background-repeat: no-repeat;\n",
              "  background-position: center center;\n",
              "}\n",
              "\n",
              "/* Parallel-specific style estimator block */\n",
              "\n",
              "#sk-container-id-3 div.sk-parallel-item::after {\n",
              "  content: \"\";\n",
              "  width: 100%;\n",
              "  border-bottom: 2px solid var(--sklearn-color-text-on-default-background);\n",
              "  flex-grow: 1;\n",
              "}\n",
              "\n",
              "#sk-container-id-3 div.sk-parallel {\n",
              "  display: flex;\n",
              "  align-items: stretch;\n",
              "  justify-content: center;\n",
              "  background-color: var(--sklearn-color-background);\n",
              "  position: relative;\n",
              "}\n",
              "\n",
              "#sk-container-id-3 div.sk-parallel-item {\n",
              "  display: flex;\n",
              "  flex-direction: column;\n",
              "}\n",
              "\n",
              "#sk-container-id-3 div.sk-parallel-item:first-child::after {\n",
              "  align-self: flex-end;\n",
              "  width: 50%;\n",
              "}\n",
              "\n",
              "#sk-container-id-3 div.sk-parallel-item:last-child::after {\n",
              "  align-self: flex-start;\n",
              "  width: 50%;\n",
              "}\n",
              "\n",
              "#sk-container-id-3 div.sk-parallel-item:only-child::after {\n",
              "  width: 0;\n",
              "}\n",
              "\n",
              "/* Serial-specific style estimator block */\n",
              "\n",
              "#sk-container-id-3 div.sk-serial {\n",
              "  display: flex;\n",
              "  flex-direction: column;\n",
              "  align-items: center;\n",
              "  background-color: var(--sklearn-color-background);\n",
              "  padding-right: 1em;\n",
              "  padding-left: 1em;\n",
              "}\n",
              "\n",
              "\n",
              "/* Toggleable style: style used for estimator/Pipeline/ColumnTransformer box that is\n",
              "clickable and can be expanded/collapsed.\n",
              "- Pipeline and ColumnTransformer use this feature and define the default style\n",
              "- Estimators will overwrite some part of the style using the `sk-estimator` class\n",
              "*/\n",
              "\n",
              "/* Pipeline and ColumnTransformer style (default) */\n",
              "\n",
              "#sk-container-id-3 div.sk-toggleable {\n",
              "  /* Default theme specific background. It is overwritten whether we have a\n",
              "  specific estimator or a Pipeline/ColumnTransformer */\n",
              "  background-color: var(--sklearn-color-background);\n",
              "}\n",
              "\n",
              "/* Toggleable label */\n",
              "#sk-container-id-3 label.sk-toggleable__label {\n",
              "  cursor: pointer;\n",
              "  display: flex;\n",
              "  width: 100%;\n",
              "  margin-bottom: 0;\n",
              "  padding: 0.5em;\n",
              "  box-sizing: border-box;\n",
              "  text-align: center;\n",
              "  align-items: start;\n",
              "  justify-content: space-between;\n",
              "  gap: 0.5em;\n",
              "}\n",
              "\n",
              "#sk-container-id-3 label.sk-toggleable__label .caption {\n",
              "  font-size: 0.6rem;\n",
              "  font-weight: lighter;\n",
              "  color: var(--sklearn-color-text-muted);\n",
              "}\n",
              "\n",
              "#sk-container-id-3 label.sk-toggleable__label-arrow:before {\n",
              "  /* Arrow on the left of the label */\n",
              "  content: \"▸\";\n",
              "  float: left;\n",
              "  margin-right: 0.25em;\n",
              "  color: var(--sklearn-color-icon);\n",
              "}\n",
              "\n",
              "#sk-container-id-3 label.sk-toggleable__label-arrow:hover:before {\n",
              "  color: var(--sklearn-color-text);\n",
              "}\n",
              "\n",
              "/* Toggleable content - dropdown */\n",
              "\n",
              "#sk-container-id-3 div.sk-toggleable__content {\n",
              "  max-height: 0;\n",
              "  max-width: 0;\n",
              "  overflow: hidden;\n",
              "  text-align: left;\n",
              "  /* unfitted */\n",
              "  background-color: var(--sklearn-color-unfitted-level-0);\n",
              "}\n",
              "\n",
              "#sk-container-id-3 div.sk-toggleable__content.fitted {\n",
              "  /* fitted */\n",
              "  background-color: var(--sklearn-color-fitted-level-0);\n",
              "}\n",
              "\n",
              "#sk-container-id-3 div.sk-toggleable__content pre {\n",
              "  margin: 0.2em;\n",
              "  border-radius: 0.25em;\n",
              "  color: var(--sklearn-color-text);\n",
              "  /* unfitted */\n",
              "  background-color: var(--sklearn-color-unfitted-level-0);\n",
              "}\n",
              "\n",
              "#sk-container-id-3 div.sk-toggleable__content.fitted pre {\n",
              "  /* unfitted */\n",
              "  background-color: var(--sklearn-color-fitted-level-0);\n",
              "}\n",
              "\n",
              "#sk-container-id-3 input.sk-toggleable__control:checked~div.sk-toggleable__content {\n",
              "  /* Expand drop-down */\n",
              "  max-height: 200px;\n",
              "  max-width: 100%;\n",
              "  overflow: auto;\n",
              "}\n",
              "\n",
              "#sk-container-id-3 input.sk-toggleable__control:checked~label.sk-toggleable__label-arrow:before {\n",
              "  content: \"▾\";\n",
              "}\n",
              "\n",
              "/* Pipeline/ColumnTransformer-specific style */\n",
              "\n",
              "#sk-container-id-3 div.sk-label input.sk-toggleable__control:checked~label.sk-toggleable__label {\n",
              "  color: var(--sklearn-color-text);\n",
              "  background-color: var(--sklearn-color-unfitted-level-2);\n",
              "}\n",
              "\n",
              "#sk-container-id-3 div.sk-label.fitted input.sk-toggleable__control:checked~label.sk-toggleable__label {\n",
              "  background-color: var(--sklearn-color-fitted-level-2);\n",
              "}\n",
              "\n",
              "/* Estimator-specific style */\n",
              "\n",
              "/* Colorize estimator box */\n",
              "#sk-container-id-3 div.sk-estimator input.sk-toggleable__control:checked~label.sk-toggleable__label {\n",
              "  /* unfitted */\n",
              "  background-color: var(--sklearn-color-unfitted-level-2);\n",
              "}\n",
              "\n",
              "#sk-container-id-3 div.sk-estimator.fitted input.sk-toggleable__control:checked~label.sk-toggleable__label {\n",
              "  /* fitted */\n",
              "  background-color: var(--sklearn-color-fitted-level-2);\n",
              "}\n",
              "\n",
              "#sk-container-id-3 div.sk-label label.sk-toggleable__label,\n",
              "#sk-container-id-3 div.sk-label label {\n",
              "  /* The background is the default theme color */\n",
              "  color: var(--sklearn-color-text-on-default-background);\n",
              "}\n",
              "\n",
              "/* On hover, darken the color of the background */\n",
              "#sk-container-id-3 div.sk-label:hover label.sk-toggleable__label {\n",
              "  color: var(--sklearn-color-text);\n",
              "  background-color: var(--sklearn-color-unfitted-level-2);\n",
              "}\n",
              "\n",
              "/* Label box, darken color on hover, fitted */\n",
              "#sk-container-id-3 div.sk-label.fitted:hover label.sk-toggleable__label.fitted {\n",
              "  color: var(--sklearn-color-text);\n",
              "  background-color: var(--sklearn-color-fitted-level-2);\n",
              "}\n",
              "\n",
              "/* Estimator label */\n",
              "\n",
              "#sk-container-id-3 div.sk-label label {\n",
              "  font-family: monospace;\n",
              "  font-weight: bold;\n",
              "  display: inline-block;\n",
              "  line-height: 1.2em;\n",
              "}\n",
              "\n",
              "#sk-container-id-3 div.sk-label-container {\n",
              "  text-align: center;\n",
              "}\n",
              "\n",
              "/* Estimator-specific */\n",
              "#sk-container-id-3 div.sk-estimator {\n",
              "  font-family: monospace;\n",
              "  border: 1px dotted var(--sklearn-color-border-box);\n",
              "  border-radius: 0.25em;\n",
              "  box-sizing: border-box;\n",
              "  margin-bottom: 0.5em;\n",
              "  /* unfitted */\n",
              "  background-color: var(--sklearn-color-unfitted-level-0);\n",
              "}\n",
              "\n",
              "#sk-container-id-3 div.sk-estimator.fitted {\n",
              "  /* fitted */\n",
              "  background-color: var(--sklearn-color-fitted-level-0);\n",
              "}\n",
              "\n",
              "/* on hover */\n",
              "#sk-container-id-3 div.sk-estimator:hover {\n",
              "  /* unfitted */\n",
              "  background-color: var(--sklearn-color-unfitted-level-2);\n",
              "}\n",
              "\n",
              "#sk-container-id-3 div.sk-estimator.fitted:hover {\n",
              "  /* fitted */\n",
              "  background-color: var(--sklearn-color-fitted-level-2);\n",
              "}\n",
              "\n",
              "/* Specification for estimator info (e.g. \"i\" and \"?\") */\n",
              "\n",
              "/* Common style for \"i\" and \"?\" */\n",
              "\n",
              ".sk-estimator-doc-link,\n",
              "a:link.sk-estimator-doc-link,\n",
              "a:visited.sk-estimator-doc-link {\n",
              "  float: right;\n",
              "  font-size: smaller;\n",
              "  line-height: 1em;\n",
              "  font-family: monospace;\n",
              "  background-color: var(--sklearn-color-background);\n",
              "  border-radius: 1em;\n",
              "  height: 1em;\n",
              "  width: 1em;\n",
              "  text-decoration: none !important;\n",
              "  margin-left: 0.5em;\n",
              "  text-align: center;\n",
              "  /* unfitted */\n",
              "  border: var(--sklearn-color-unfitted-level-1) 1pt solid;\n",
              "  color: var(--sklearn-color-unfitted-level-1);\n",
              "}\n",
              "\n",
              ".sk-estimator-doc-link.fitted,\n",
              "a:link.sk-estimator-doc-link.fitted,\n",
              "a:visited.sk-estimator-doc-link.fitted {\n",
              "  /* fitted */\n",
              "  border: var(--sklearn-color-fitted-level-1) 1pt solid;\n",
              "  color: var(--sklearn-color-fitted-level-1);\n",
              "}\n",
              "\n",
              "/* On hover */\n",
              "div.sk-estimator:hover .sk-estimator-doc-link:hover,\n",
              ".sk-estimator-doc-link:hover,\n",
              "div.sk-label-container:hover .sk-estimator-doc-link:hover,\n",
              ".sk-estimator-doc-link:hover {\n",
              "  /* unfitted */\n",
              "  background-color: var(--sklearn-color-unfitted-level-3);\n",
              "  color: var(--sklearn-color-background);\n",
              "  text-decoration: none;\n",
              "}\n",
              "\n",
              "div.sk-estimator.fitted:hover .sk-estimator-doc-link.fitted:hover,\n",
              ".sk-estimator-doc-link.fitted:hover,\n",
              "div.sk-label-container:hover .sk-estimator-doc-link.fitted:hover,\n",
              ".sk-estimator-doc-link.fitted:hover {\n",
              "  /* fitted */\n",
              "  background-color: var(--sklearn-color-fitted-level-3);\n",
              "  color: var(--sklearn-color-background);\n",
              "  text-decoration: none;\n",
              "}\n",
              "\n",
              "/* Span, style for the box shown on hovering the info icon */\n",
              ".sk-estimator-doc-link span {\n",
              "  display: none;\n",
              "  z-index: 9999;\n",
              "  position: relative;\n",
              "  font-weight: normal;\n",
              "  right: .2ex;\n",
              "  padding: .5ex;\n",
              "  margin: .5ex;\n",
              "  width: min-content;\n",
              "  min-width: 20ex;\n",
              "  max-width: 50ex;\n",
              "  color: var(--sklearn-color-text);\n",
              "  box-shadow: 2pt 2pt 4pt #999;\n",
              "  /* unfitted */\n",
              "  background: var(--sklearn-color-unfitted-level-0);\n",
              "  border: .5pt solid var(--sklearn-color-unfitted-level-3);\n",
              "}\n",
              "\n",
              ".sk-estimator-doc-link.fitted span {\n",
              "  /* fitted */\n",
              "  background: var(--sklearn-color-fitted-level-0);\n",
              "  border: var(--sklearn-color-fitted-level-3);\n",
              "}\n",
              "\n",
              ".sk-estimator-doc-link:hover span {\n",
              "  display: block;\n",
              "}\n",
              "\n",
              "/* \"?\"-specific style due to the `<a>` HTML tag */\n",
              "\n",
              "#sk-container-id-3 a.estimator_doc_link {\n",
              "  float: right;\n",
              "  font-size: 1rem;\n",
              "  line-height: 1em;\n",
              "  font-family: monospace;\n",
              "  background-color: var(--sklearn-color-background);\n",
              "  border-radius: 1rem;\n",
              "  height: 1rem;\n",
              "  width: 1rem;\n",
              "  text-decoration: none;\n",
              "  /* unfitted */\n",
              "  color: var(--sklearn-color-unfitted-level-1);\n",
              "  border: var(--sklearn-color-unfitted-level-1) 1pt solid;\n",
              "}\n",
              "\n",
              "#sk-container-id-3 a.estimator_doc_link.fitted {\n",
              "  /* fitted */\n",
              "  border: var(--sklearn-color-fitted-level-1) 1pt solid;\n",
              "  color: var(--sklearn-color-fitted-level-1);\n",
              "}\n",
              "\n",
              "/* On hover */\n",
              "#sk-container-id-3 a.estimator_doc_link:hover {\n",
              "  /* unfitted */\n",
              "  background-color: var(--sklearn-color-unfitted-level-3);\n",
              "  color: var(--sklearn-color-background);\n",
              "  text-decoration: none;\n",
              "}\n",
              "\n",
              "#sk-container-id-3 a.estimator_doc_link.fitted:hover {\n",
              "  /* fitted */\n",
              "  background-color: var(--sklearn-color-fitted-level-3);\n",
              "}\n",
              "</style><div id=\"sk-container-id-3\" class=\"sk-top-container\"><div class=\"sk-text-repr-fallback\"><pre>RandomForestClassifier(random_state=42)</pre><b>In a Jupyter environment, please rerun this cell to show the HTML representation or trust the notebook. <br />On GitHub, the HTML representation is unable to render, please try loading this page with nbviewer.org.</b></div><div class=\"sk-container\" hidden><div class=\"sk-item\"><div class=\"sk-estimator fitted sk-toggleable\"><input class=\"sk-toggleable__control sk-hidden--visually\" id=\"sk-estimator-id-3\" type=\"checkbox\" checked><label for=\"sk-estimator-id-3\" class=\"sk-toggleable__label fitted sk-toggleable__label-arrow\"><div><div>RandomForestClassifier</div></div><div><a class=\"sk-estimator-doc-link fitted\" rel=\"noreferrer\" target=\"_blank\" href=\"https://scikit-learn.org/1.6/modules/generated/sklearn.ensemble.RandomForestClassifier.html\">?<span>Documentation for RandomForestClassifier</span></a><span class=\"sk-estimator-doc-link fitted\">i<span>Fitted</span></span></div></label><div class=\"sk-toggleable__content fitted\"><pre>RandomForestClassifier(random_state=42)</pre></div> </div></div></div></div>"
            ]
          },
          "metadata": {},
          "execution_count": 116
        }
      ]
    },
    {
      "cell_type": "code",
      "source": [
        "# Predict on test data\n",
        "y_pred = rf_model.predict(X_test)\n"
      ],
      "metadata": {
        "id": "-H_vqtpEONPb"
      },
      "execution_count": 117,
      "outputs": []
    },
    {
      "cell_type": "code",
      "source": [
        "accuracy = accuracy_score(y_test, y_pred)\n",
        "print(f\"Model Accuracy: {accuracy:.2f}\")\n"
      ],
      "metadata": {
        "colab": {
          "base_uri": "https://localhost:8080/"
        },
        "id": "kGyC-OQ0OO1r",
        "outputId": "c88fc914-95eb-4c70-ac64-4bf99165dec0"
      },
      "execution_count": 118,
      "outputs": [
        {
          "output_type": "stream",
          "name": "stdout",
          "text": [
            "Model Accuracy: 0.99\n"
          ]
        }
      ]
    },
    {
      "cell_type": "code",
      "source": [
        "print(\"Classification Report:\")\n",
        "print(classification_report(y_test, y_pred))\n"
      ],
      "metadata": {
        "colab": {
          "base_uri": "https://localhost:8080/"
        },
        "id": "xqg-riDoORBr",
        "outputId": "72eda4bf-f92a-44b7-8594-e5966a0ad63e"
      },
      "execution_count": 200,
      "outputs": [
        {
          "output_type": "stream",
          "name": "stdout",
          "text": [
            "Classification Report:\n",
            "              precision    recall  f1-score   support\n",
            "\n",
            "           0       0.97      1.00      0.99        34\n",
            "           1       1.00      0.99      1.00       166\n",
            "\n",
            "    accuracy                           0.99       200\n",
            "   macro avg       0.99      1.00      0.99       200\n",
            "weighted avg       1.00      0.99      1.00       200\n",
            "\n"
          ]
        }
      ]
    },
    {
      "cell_type": "code",
      "source": [
        "# Visualize confusion matrix\n",
        "conf_matrix = confusion_matrix(y_test, y_pred)\n",
        "sns.heatmap(conf_matrix, annot=True, fmt=\"d\", cmap=\"Blues\")\n",
        "plt.xlabel(\"Predicted Label\")\n",
        "plt.ylabel(\"True Label\")\n",
        "plt.title(\"Confusion Matrix\")\n",
        "plt.show()\n"
      ],
      "metadata": {
        "colab": {
          "base_uri": "https://localhost:8080/",
          "height": 472
        },
        "id": "PqsRKZcJOTh7",
        "outputId": "4a4627c6-36fc-4aed-8f32-63510deb48ae"
      },
      "execution_count": 120,
      "outputs": [
        {
          "output_type": "display_data",
          "data": {
            "text/plain": [
              "<Figure size 640x480 with 2 Axes>"
            ],
            "image/png": "[encoded data removed]"
          },
          "metadata": {}
        }
      ]
    },
    {
      "cell_type": "code",
      "source": [
        "# Example real-world patient data (adjust values as needed)\n",
        "real_world_sample = pd.DataFrame({\n",
        "    \"Family_History\": [1],       # Has family history of diabetes\n",
        "    \"Glucose_Reading\": [135],    # Mid-range glucose level\n",
        "    \"Frequent_Urination\": [1],   # Experiencing frequent urination\n",
        "    \"Fatigue\": [0],              # No fatigue\n",
        "    \"Blurred_Vision\": [1],       # Blurred vision\n",
        "    \"Age\": [45],                 # Age of the patient\n",
        "    \"Diet_Quality\": [\"Poor\"]     # Poor diet quality\n",
        "})\n",
        "\n",
        "# Ensure Diet_Quality is encoded the same way as in training data\n",
        "real_world_sample = pd.get_dummies(real_world_sample, columns=[\"Diet_Quality\"], drop_first=True)\n",
        "\n",
        "# Get column names from the original unscaled training DataFrame (before StandardScaler)\n",
        "original_columns = list(df.drop(columns=[\"Diabetes_Status\"]).columns)  # Use the original feature names\n",
        "\n",
        "# Ensure real_world_sample has the same columns as training data\n",
        "missing_cols = set(original_columns) - set(real_world_sample.columns)\n",
        "for col in missing_cols:\n",
        "    real_world_sample[col] = 0  # Add missing columns with default value\n",
        "\n",
        "# Reorder columns to match training data\n",
        "real_world_sample = real_world_sample[original_columns]\n",
        "\n",
        "# Scale the data using the previously fitted scaler\n",
        "real_world_sample_scaled = scaler.transform(real_world_sample)\n",
        "\n",
        "# Display processed sample\n",
        "print(real_world_sample_scaled)\n",
        "\n"
      ],
      "metadata": {
        "colab": {
          "base_uri": "https://localhost:8080/"
        },
        "id": "exbYaeL7OhJr",
        "outputId": "5b9568bf-abe4-40bc-d75a-4b6cedffd4d1"
      },
      "execution_count": 121,
      "outputs": [
        {
          "output_type": "stream",
          "name": "stdout",
          "text": [
            "[[ 0.9900495   0.02841194  1.040833   -1.08075052  1.03046381 -0.28499687\n",
            "  -1.11258444]]\n"
          ]
        }
      ]
    },
    {
      "cell_type": "code",
      "source": [
        "# Apply the same scaling transformation used during training\n",
        "real_world_sample_scaled = scaler.transform(real_world_sample)\n"
      ],
      "metadata": {
        "id": "QGWRTcSNOkiS"
      },
      "execution_count": 122,
      "outputs": []
    },
    {
      "cell_type": "code",
      "source": [
        "# Predict the label (0 = \"Non\", 1 = \"Suspected\")\n",
        "prediction = rf_model.predict(real_world_sample_scaled)\n",
        "\n",
        "# Convert prediction back to label\n",
        "label_mapping = {0: \"Non\", 1: \"Suspected\"}\n",
        "predicted_label = label_mapping[prediction[0]]\n",
        "\n",
        "print(f\"Predicted Diabetes Status: {predicted_label}\")\n"
      ],
      "metadata": {
        "colab": {
          "base_uri": "https://localhost:8080/"
        },
        "id": "2_5nKNoOOl0h",
        "outputId": "43e849e8-b28f-45b8-ca76-6a15ac28f24a"
      },
      "execution_count": 123,
      "outputs": [
        {
          "output_type": "stream",
          "name": "stdout",
          "text": [
            "Predicted Diabetes Status: Suspected\n"
          ]
        }
      ]
    },
    {
      "cell_type": "code",
      "source": [
        "# Get prediction probabilities\n",
        "prediction_proba = rf_model.predict_proba(real_world_sample_scaled)\n",
        "print(f\"Prediction Confidence: {prediction_proba}\")\n"
      ],
      "metadata": {
        "colab": {
          "base_uri": "https://localhost:8080/"
        },
        "id": "wFKAsvN-OqM7",
        "outputId": "3027c590-b921-4d4d-8dec-5269e43df99a"
      },
      "execution_count": 124,
      "outputs": [
        {
          "output_type": "stream",
          "name": "stdout",
          "text": [
            "Prediction Confidence: [[0.13 0.87]]\n"
          ]
        }
      ]
    },
    {
      "cell_type": "code",
      "source": [
        "# Create a DataFrame with multiple real-world cases\n",
        "real_world_cases = pd.DataFrame({\n",
        "    \"Family_History\": [1, 0, 1, 0, 1, 1],\n",
        "    \"Glucose_Reading\": [85, 145, 180, 95, 200, 100],  # Varying glucose levels\n",
        "    \"Frequent_Urination\": [0, 1, 1, 0, 1, 0],\n",
        "    \"Fatigue\": [0, 1, 1, 0, 1, 1],\n",
        "    \"Blurred_Vision\": [0, 1, 1, 0, 1, 1]\n",
        "})\n",
        "\n",
        "print(\"Real-world cases:\\n\", real_world_cases)\n"
      ],
      "metadata": {
        "colab": {
          "base_uri": "https://localhost:8080/"
        },
        "id": "3jPDcP2yO5Ap",
        "outputId": "c63fdb47-5485-4cb7-ddc2-b39c69b3dc4f"
      },
      "execution_count": 125,
      "outputs": [
        {
          "output_type": "stream",
          "name": "stdout",
          "text": [
            "Real-world cases:\n",
            "    Family_History  Glucose_Reading  Frequent_Urination  Fatigue  \\\n",
            "0               1               85                   0        0   \n",
            "1               0              145                   1        1   \n",
            "2               1              180                   1        1   \n",
            "3               0               95                   0        0   \n",
            "4               1              200                   1        1   \n",
            "5               1              100                   0        1   \n",
            "\n",
            "   Blurred_Vision  \n",
            "0               0  \n",
            "1               1  \n",
            "2               1  \n",
            "3               0  \n",
            "4               1  \n",
            "5               1  \n"
          ]
        }
      ]
    },
    {
      "cell_type": "code",
      "source": [
        "# Scale the new samples using the same scaler\n",
        "real_world_cases_scaled = scaler.transform(real_world_cases)\n",
        "\n",
        "# Get predictions and confidence scores\n",
        "predictions = rf_model.predict(real_world_cases_scaled)\n",
        "predictions_proba = rf_model.predict_proba(real_world_cases_scaled)\n",
        "\n",
        "# Convert numerical predictions to labels\n",
        "label_mapping = {0: \"Non\", 1: \"Suspected\"}\n",
        "predicted_labels = [label_mapping[pred] for pred in predictions]\n",
        "\n",
        "# Display results\n",
        "for i, (pred, proba) in enumerate(zip(predicted_labels, predictions_proba)):\n",
        "    print(f\"Patient {i+1}: Predicted = {pred}, Confidence = {proba}\")\n"
      ],
      "metadata": {
        "colab": {
          "base_uri": "https://localhost:8080/",
          "height": 460
        },
        "id": "DB4uii4BPIJ8",
        "outputId": "1de1b5cd-db00-42be-d25c-f0a0c81e0831"
      },
      "execution_count": 132,
      "outputs": [
        {
          "output_type": "error",
          "ename": "ValueError",
          "evalue": "The feature names should match those that were passed during fit.\nFeature names unseen at fit time:\n- Diet_Quality_Average\n- Diet_Quality_Good\n- Diet_Quality_Poor\nFeature names seen at fit time, yet now missing:\n- Diet_Quality\n",
          "traceback": [
            "\u001b[0;31m---------------------------------------------------------------------------\u001b[0m",
            "\u001b[0;31mValueError\u001b[0m                                Traceback (most recent call last)",
            "\u001b[0;32m<ipython-input-132-c10ce01d6f8e>\u001b[0m in \u001b[0;36m<cell line: 0>\u001b[0;34m()\u001b[0m\n\u001b[1;32m      1\u001b[0m \u001b[0;31m# Scale the new samples using the same scaler\u001b[0m\u001b[0;34m\u001b[0m\u001b[0;34m\u001b[0m\u001b[0m\n\u001b[0;32m----> 2\u001b[0;31m \u001b[0mreal_world_cases_scaled\u001b[0m \u001b[0;34m=\u001b[0m \u001b[0mscaler\u001b[0m\u001b[0;34m.\u001b[0m\u001b[0mtransform\u001b[0m\u001b[0;34m(\u001b[0m\u001b[0mreal_world_cases\u001b[0m\u001b[0;34m)\u001b[0m\u001b[0;34m\u001b[0m\u001b[0;34m\u001b[0m\u001b[0m\n\u001b[0m\u001b[1;32m      3\u001b[0m \u001b[0;34m\u001b[0m\u001b[0m\n\u001b[1;32m      4\u001b[0m \u001b[0;31m# Get predictions and confidence scores\u001b[0m\u001b[0;34m\u001b[0m\u001b[0;34m\u001b[0m\u001b[0m\n\u001b[1;32m      5\u001b[0m \u001b[0mpredictions\u001b[0m \u001b[0;34m=\u001b[0m \u001b[0mrf_model\u001b[0m\u001b[0;34m.\u001b[0m\u001b[0mpredict\u001b[0m\u001b[0;34m(\u001b[0m\u001b[0mreal_world_cases_scaled\u001b[0m\u001b[0;34m)\u001b[0m\u001b[0;34m\u001b[0m\u001b[0;34m\u001b[0m\u001b[0m\n",
            "\u001b[0;32m/usr/local/lib/python3.11/dist-packages/sklearn/utils/_set_output.py\u001b[0m in \u001b[0;36mwrapped\u001b[0;34m(self, X, *args, **kwargs)\u001b[0m\n\u001b[1;32m    317\u001b[0m     \u001b[0;34m@\u001b[0m\u001b[0mwraps\u001b[0m\u001b[0;34m(\u001b[0m\u001b[0mf\u001b[0m\u001b[0;34m)\u001b[0m\u001b[0;34m\u001b[0m\u001b[0;34m\u001b[0m\u001b[0m\n\u001b[1;32m    318\u001b[0m     \u001b[0;32mdef\u001b[0m \u001b[0mwrapped\u001b[0m\u001b[0;34m(\u001b[0m\u001b[0mself\u001b[0m\u001b[0;34m,\u001b[0m \u001b[0mX\u001b[0m\u001b[0;34m,\u001b[0m \u001b[0;34m*\u001b[0m\u001b[0margs\u001b[0m\u001b[0;34m,\u001b[0m \u001b[0;34m**\u001b[0m\u001b[0mkwargs\u001b[0m\u001b[0;34m)\u001b[0m\u001b[0;34m:\u001b[0m\u001b[0;34m\u001b[0m\u001b[0;34m\u001b[0m\u001b[0m\n\u001b[0;32m--> 319\u001b[0;31m         \u001b[0mdata_to_wrap\u001b[0m \u001b[0;34m=\u001b[0m \u001b[0mf\u001b[0m\u001b[0;34m(\u001b[0m\u001b[0mself\u001b[0m\u001b[0;34m,\u001b[0m \u001b[0mX\u001b[0m\u001b[0;34m,\u001b[0m \u001b[0;34m*\u001b[0m\u001b[0margs\u001b[0m\u001b[0;34m,\u001b[0m \u001b[0;34m**\u001b[0m\u001b[0mkwargs\u001b[0m\u001b[0;34m)\u001b[0m\u001b[0;34m\u001b[0m\u001b[0;34m\u001b[0m\u001b[0m\n\u001b[0m\u001b[1;32m    320\u001b[0m         \u001b[0;32mif\u001b[0m \u001b[0misinstance\u001b[0m\u001b[0;34m(\u001b[0m\u001b[0mdata_to_wrap\u001b[0m\u001b[0;34m,\u001b[0m \u001b[0mtuple\u001b[0m\u001b[0;34m)\u001b[0m\u001b[0;34m:\u001b[0m\u001b[0;34m\u001b[0m\u001b[0;34m\u001b[0m\u001b[0m\n\u001b[1;32m    321\u001b[0m             \u001b[0;31m# only wrap the first output for cross decomposition\u001b[0m\u001b[0;34m\u001b[0m\u001b[0;34m\u001b[0m\u001b[0m\n",
            "\u001b[0;32m/usr/local/lib/python3.11/dist-packages/sklearn/preprocessing/_data.py\u001b[0m in \u001b[0;36mtransform\u001b[0;34m(self, X, copy)\u001b[0m\n\u001b[1;32m   1060\u001b[0m \u001b[0;34m\u001b[0m\u001b[0m\n\u001b[1;32m   1061\u001b[0m         \u001b[0mcopy\u001b[0m \u001b[0;34m=\u001b[0m \u001b[0mcopy\u001b[0m \u001b[0;32mif\u001b[0m \u001b[0mcopy\u001b[0m \u001b[0;32mis\u001b[0m \u001b[0;32mnot\u001b[0m \u001b[0;32mNone\u001b[0m \u001b[0;32melse\u001b[0m \u001b[0mself\u001b[0m\u001b[0;34m.\u001b[0m\u001b[0mcopy\u001b[0m\u001b[0;34m\u001b[0m\u001b[0;34m\u001b[0m\u001b[0m\n\u001b[0;32m-> 1062\u001b[0;31m         X = validate_data(\n\u001b[0m\u001b[1;32m   1063\u001b[0m             \u001b[0mself\u001b[0m\u001b[0;34m,\u001b[0m\u001b[0;34m\u001b[0m\u001b[0;34m\u001b[0m\u001b[0m\n\u001b[1;32m   1064\u001b[0m             \u001b[0mX\u001b[0m\u001b[0;34m,\u001b[0m\u001b[0;34m\u001b[0m\u001b[0;34m\u001b[0m\u001b[0m\n",
            "\u001b[0;32m/usr/local/lib/python3.11/dist-packages/sklearn/utils/validation.py\u001b[0m in \u001b[0;36mvalidate_data\u001b[0;34m(_estimator, X, y, reset, validate_separately, skip_check_array, **check_params)\u001b[0m\n\u001b[1;32m   2917\u001b[0m         \u001b[0mvalidated\u001b[0m\u001b[0;34m.\u001b[0m\u001b[0;34m\u001b[0m\u001b[0;34m\u001b[0m\u001b[0m\n\u001b[1;32m   2918\u001b[0m     \"\"\"\n\u001b[0;32m-> 2919\u001b[0;31m     \u001b[0m_check_feature_names\u001b[0m\u001b[0;34m(\u001b[0m\u001b[0m_estimator\u001b[0m\u001b[0;34m,\u001b[0m \u001b[0mX\u001b[0m\u001b[0;34m,\u001b[0m \u001b[0mreset\u001b[0m\u001b[0;34m=\u001b[0m\u001b[0mreset\u001b[0m\u001b[0;34m)\u001b[0m\u001b[0;34m\u001b[0m\u001b[0;34m\u001b[0m\u001b[0m\n\u001b[0m\u001b[1;32m   2920\u001b[0m     \u001b[0mtags\u001b[0m \u001b[0;34m=\u001b[0m \u001b[0mget_tags\u001b[0m\u001b[0;34m(\u001b[0m\u001b[0m_estimator\u001b[0m\u001b[0;34m)\u001b[0m\u001b[0;34m\u001b[0m\u001b[0;34m\u001b[0m\u001b[0m\n\u001b[1;32m   2921\u001b[0m     \u001b[0;32mif\u001b[0m \u001b[0my\u001b[0m \u001b[0;32mis\u001b[0m \u001b[0;32mNone\u001b[0m \u001b[0;32mand\u001b[0m \u001b[0mtags\u001b[0m\u001b[0;34m.\u001b[0m\u001b[0mtarget_tags\u001b[0m\u001b[0;34m.\u001b[0m\u001b[0mrequired\u001b[0m\u001b[0;34m:\u001b[0m\u001b[0;34m\u001b[0m\u001b[0;34m\u001b[0m\u001b[0m\n",
            "\u001b[0;32m/usr/local/lib/python3.11/dist-packages/sklearn/utils/validation.py\u001b[0m in \u001b[0;36m_check_feature_names\u001b[0;34m(estimator, X, reset)\u001b[0m\n\u001b[1;32m   2775\u001b[0m             \u001b[0mmessage\u001b[0m \u001b[0;34m+=\u001b[0m \u001b[0;34m\"Feature names must be in the same order as they were in fit.\\n\"\u001b[0m\u001b[0;34m\u001b[0m\u001b[0;34m\u001b[0m\u001b[0m\n\u001b[1;32m   2776\u001b[0m \u001b[0;34m\u001b[0m\u001b[0m\n\u001b[0;32m-> 2777\u001b[0;31m         \u001b[0;32mraise\u001b[0m \u001b[0mValueError\u001b[0m\u001b[0;34m(\u001b[0m\u001b[0mmessage\u001b[0m\u001b[0;34m)\u001b[0m\u001b[0;34m\u001b[0m\u001b[0;34m\u001b[0m\u001b[0m\n\u001b[0m\u001b[1;32m   2778\u001b[0m \u001b[0;34m\u001b[0m\u001b[0m\n\u001b[1;32m   2779\u001b[0m \u001b[0;34m\u001b[0m\u001b[0m\n",
            "\u001b[0;31mValueError\u001b[0m: The feature names should match those that were passed during fit.\nFeature names unseen at fit time:\n- Diet_Quality_Average\n- Diet_Quality_Good\n- Diet_Quality_Poor\nFeature names seen at fit time, yet now missing:\n- Diet_Quality\n"
          ]
        }
      ]
    },
    {
      "cell_type": "code",
      "source": [
        "import pandas as pd\n",
        "\n",
        "# Create a DataFrame with real-world-inspired patient cases\n",
        "real_world_cases = pd.DataFrame({\n",
        "    \"Family_History\": [1, 0, 1, 1, 0, 1, 0, 0, 1, 1],\n",
        "    \"Glucose_Reading\": [180, 95, 150, 130, 85, 200, 110, 140, 160, 175],\n",
        "    \"Frequent_Urination\": [1, 0, 1, 1, 0, 1, 0, 1, 1, 1],\n",
        "    \"Fatigue\": [1, 0, 1, 0, 1, 1, 0, 1, 1, 1],\n",
        "    \"Blurred_Vision\": [1, 0, 1, 1, 0, 1, 0, 1, 1, 1],\n",
        "    \"Age\": [45, 30, 55, 60, 25, 70, 40, 35, 65, 50],\n",
        "\n",
        "})\n",
        "\n",
        "# Display the dataset\n",
        "print(real_world_cases)\n"
      ],
      "metadata": {
        "colab": {
          "base_uri": "https://localhost:8080/"
        },
        "id": "CHJ5FDkMTQCE",
        "outputId": "3d08c2cd-2cb8-49fe-e550-e39bacc5974f"
      },
      "execution_count": 159,
      "outputs": [
        {
          "output_type": "stream",
          "name": "stdout",
          "text": [
            "   Family_History  Glucose_Reading  Frequent_Urination  Fatigue  \\\n",
            "0               1              180                   1        1   \n",
            "1               0               95                   0        0   \n",
            "2               1              150                   1        1   \n",
            "3               1              130                   1        0   \n",
            "4               0               85                   0        1   \n",
            "5               1              200                   1        1   \n",
            "6               0              110                   0        0   \n",
            "7               0              140                   1        1   \n",
            "8               1              160                   1        1   \n",
            "9               1              175                   1        1   \n",
            "\n",
            "   Blurred_Vision  Age  \n",
            "0               1   45  \n",
            "1               0   30  \n",
            "2               1   55  \n",
            "3               1   60  \n",
            "4               0   25  \n",
            "5               1   70  \n",
            "6               0   40  \n",
            "7               1   35  \n",
            "8               1   65  \n",
            "9               1   50  \n"
          ]
        }
      ]
    },
    {
      "cell_type": "code",
      "source": [
        "# Add Diet_Quality categories (adjust values based on real cases)\n",
        "real_world_cases[\"Diet_Quality_Good\"] = [1, 0, 1, 0, 0, 1, 0, 1, 0, 1]\n",
        "real_world_cases[\"Diet_Quality_Poor\"] = [0, 1, 0, 1, 1, 0, 1, 0, 1, 0]\n",
        "real_world_cases[\"Diet_Quality\"] = [0, 0, 0, 0, 1, 0, 0, 0, 0, 0]\n"
      ],
      "metadata": {
        "id": "MGjxlopCZnKi"
      },
      "execution_count": 140,
      "outputs": []
    },
    {
      "cell_type": "code",
      "source": [
        "# Ensure the same order of features as in training\n",
        "features_used_in_training = [\"Family_History\", \"Glucose_Reading\", \"Frequent_Urination\",\n",
        "                             \"Fatigue\", \"Blurred_Vision\", \"Age\", \"Diet_Quality\"]\n",
        "\n",
        "real_world_cases_scaled = real_world_cases.copy()\n",
        "real_world_cases_scaled[features_used_in_training] = scaler.transform(real_world_cases[features_used_in_training])\n"
      ],
      "metadata": {
        "id": "DJO1fiTZZrca"
      },
      "execution_count": 141,
      "outputs": []
    },
    {
      "cell_type": "code",
      "source": [
        "predictions = rf_model.predict(real_world_cases_scaled.to_numpy())\n",
        "predictions_proba = rf_model.predict_proba(real_world_cases_scaled.to_numpy())\n",
        "\n",
        "\n",
        "\n",
        "\n"
      ],
      "metadata": {
        "id": "rdv3DDazaBeA"
      },
      "execution_count": 147,
      "outputs": []
    },
    {
      "cell_type": "code",
      "source": [
        "# Ensure we use only the original training features\n",
        "features_used_in_training = [\"Family_History\", \"Glucose_Reading\", \"Frequent_Urination\",\n",
        "                             \"Fatigue\", \"Blurred_Vision\", \"Age\", \"Diet_Quality\"]\n",
        "\n",
        "real_world_cases_scaled = real_world_cases_scaled[features_used_in_training]\n",
        "\n",
        "# Convert to NumPy array before prediction to avoid the warning\n",
        "predictions = rf_model.predict(real_world_cases_scaled.to_numpy())\n",
        "predictions_proba = rf_model.predict_proba(real_world_cases_scaled.to_numpy())\n",
        "\n",
        "print(\"Predictions:\", predictions)\n",
        "print(\"Prediction Confidence:\", predictions_proba)\n"
      ],
      "metadata": {
        "colab": {
          "base_uri": "https://localhost:8080/"
        },
        "id": "jYsg-TKlaq8n",
        "outputId": "7c909682-f5e9-481a-826b-c0e4b522334f"
      },
      "execution_count": 148,
      "outputs": [
        {
          "output_type": "stream",
          "name": "stdout",
          "text": [
            "Predictions: [1 0 1 1 0 1 0 1 1 1]\n",
            "Prediction Confidence: [[0.   1.  ]\n",
            " [0.98 0.02]\n",
            " [0.   1.  ]\n",
            " [0.06 0.94]\n",
            " [0.95 0.05]\n",
            " [0.   1.  ]\n",
            " [0.98 0.02]\n",
            " [0.   1.  ]\n",
            " [0.   1.  ]\n",
            " [0.   1.  ]]\n"
          ]
        }
      ]
    },
    {
      "cell_type": "code",
      "source": [
        "new_patient = pd.DataFrame({\n",
        "    \"Family_History\": [1],\n",
        "    \"Glucose_Reading\": [70],\n",
        "    \"Frequent_Urination\": [0],\n",
        "    \"Fatigue\": [0],\n",
        "    \"Blurred_Vision\": [0],\n",
        "    \"Age\": [60],\n",
        "    \"Diet_Quality\": [\"0\"]\n",
        "})\n",
        "\n",
        "\n",
        "# Scale the new patient data\n",
        "new_patient_scaled = scaler.transform(new_patient)\n",
        "\n",
        "# Make a prediction\n",
        "prediction = rf_model.predict(new_patient_scaled)\n",
        "prediction_proba = rf_model.predict_proba(new_patient_scaled)\n",
        "\n",
        "# Interpret and format the result\n",
        "if prediction[0] == 1:\n",
        "    print(\"Predicted Diabetes Status: Suspected\")\n",
        "else:\n",
        "    print(\"Predicted Diabetes Status: Not Suspected\")\n",
        "\n",
        "# Print confidence score\n",
        "print(\"Prediction Confidence:\", prediction_proba)\n"
      ],
      "metadata": {
        "colab": {
          "base_uri": "https://localhost:8080/"
        },
        "id": "zRFssfOtbIot",
        "outputId": "d9f75597-6396-4277-942b-c1c4851e7d52"
      },
      "execution_count": 188,
      "outputs": [
        {
          "output_type": "stream",
          "name": "stdout",
          "text": [
            "Predicted Diabetes Status: Not Suspected\n",
            "Prediction Confidence: [[0.92 0.08]]\n"
          ]
        }
      ]
    },
    {
      "cell_type": "code",
      "source": [
        "import pandas as pd\n",
        "\n",
        "# Define the new patient data\n",
        "new_patient = pd.DataFrame({\n",
        "    \"Family_History\": [0],\n",
        "    \"Glucose_Reading\": [90],\n",
        "    \"Frequent_Urination\": [1],\n",
        "    \"Fatigue\": [0],\n",
        "    \"Blurred_Vision\": [1],\n",
        "    \"Age\": [20],\n",
        "    \"Diet_Quality\": [\"1\"]\n",
        "})\n",
        "\n",
        "# Scale the new patient data\n",
        "new_patient_scaled = scaler.transform(new_patient)\n",
        "\n",
        "# Make a prediction\n",
        "prediction = rf_model.predict(new_patient_scaled)\n",
        "prediction_proba = rf_model.predict_proba(new_patient_scaled)\n",
        "\n",
        "# Interpret and format the result\n",
        "if prediction[0] == 1:\n",
        "    print(\"Predicted Diabetes Status: Suspected\")\n",
        "else:\n",
        "    print(\"Predicted Diabetes Status: Not Suspected\")\n",
        "\n",
        "# Check glucose levels and give feedback\n",
        "glucose_level = new_patient[\"Glucose_Reading\"][0]\n",
        "if glucose_level < 70:\n",
        "    print(\"Warning: Low Blood Sugar (Hypoglycemia). Please take necessary precautions.\")\n",
        "elif glucose_level > 140:\n",
        "    print(\"Warning: High Blood Sugar (Hyperglycemia). Please monitor and manage your levels.\")\n",
        "\n",
        "# Print confidence score\n",
        "print(\"Prediction Confidence:\", prediction_proba)\n"
      ],
      "metadata": {
        "colab": {
          "base_uri": "https://localhost:8080/"
        },
        "id": "T_c3IBhmd-6F",
        "outputId": "e09bf4a0-bf6b-4b35-9b13-7c027fa36266"
      },
      "execution_count": 203,
      "outputs": [
        {
          "output_type": "stream",
          "name": "stdout",
          "text": [
            "Predicted Diabetes Status: Suspected\n",
            "Prediction Confidence: [[0.33 0.67]]\n"
          ]
        }
      ]
    },
    {
      "cell_type": "code",
      "source": [
        "import joblib\n",
        "\n",
        "# Save trained model\n",
        "joblib.dump(rf_model, 'diabetes_model.pkl')\n",
        "\n",
        "# Save the scaler\n",
        "joblib.dump(scaler, 'scaler.pkl')\n",
        "\n",
        "print(\"✅ Model and Scaler Saved!\")\n"
      ],
      "metadata": {
        "colab": {
          "base_uri": "https://localhost:8080/"
        },
        "id": "SlFMQfaWjour",
        "outputId": "87f4d604-6524-4402-8b6b-24384e2fb47f"
      },
      "execution_count": 201,
      "outputs": [
        {
          "output_type": "stream",
          "name": "stdout",
          "text": [
            "✅ Model and Scaler Saved!\n"
          ]
        }
      ]
    }
  ]
}